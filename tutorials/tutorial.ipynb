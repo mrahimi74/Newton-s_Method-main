{
 "cells": [
  {
   "cell_type": "code",
   "execution_count": null,
   "metadata": {
    "vscode": {
     "languageId": "plaintext"
    }
   },
   "outputs": [],
   "source": [
    "from newtonsmethod import newtons_method as nm\n",
    "import numpy as np"
   ]
  },
  {
   "cell_type": "code",
   "execution_count": null,
   "metadata": {
    "vscode": {
     "languageId": "plaintext"
    }
   },
   "outputs": [],
   "source": [
    "tol = 1e-11\n",
    "max_iter = 30"
   ]
  },
  {
   "cell_type": "markdown",
   "metadata": {},
   "source": [
    "Example1:\n",
    "\n",
    "the intersection of $$x^2 - 4 \\;\\; and \\;\\; sin(x)$$"
   ]
  },
  {
   "cell_type": "code",
   "execution_count": null,
   "metadata": {
    "vscode": {
     "languageId": "plaintext"
    }
   },
   "outputs": [],
   "source": [
    "def f(x):\n",
    "    return np.sin(x) - (x**2 - 4)\n",
    "\n",
    "def J(x):\n",
    "    return np.cos(x) - 2*x\n",
    "\n",
    "x0 = 10\n",
    "\n",
    "nm.newton_raphson(f, J, x0, tol, max_iter)"
   ]
  },
  {
   "cell_type": "markdown",
   "metadata": {},
   "source": [
    "Example 2:\n",
    "\n",
    "the intersection of $$x^2 + y^2 = 4 \\;\\; and \\;\\; x - y =1$$\n"
   ]
  },
  {
   "cell_type": "code",
   "execution_count": null,
   "metadata": {
    "vscode": {
     "languageId": "plaintext"
    }
   },
   "outputs": [],
   "source": [
    "def f(x):\n",
    "    return np.array([\n",
    "        x[0]**2 + x[1]**2 -4,\n",
    "        x[0] - x[1] - 1\n",
    "    ])\n",
    "\n",
    "def J(x):\n",
    "    return np.array([\n",
    "        [2*x[0], 2*x[1]],\n",
    "        [1, -1]])\n",
    "    \n",
    "\n",
    "x0 = np.array([100.0, 48.0])\n",
    "nm.newton_raphson(f, J, x0, tol, max_iter)"
   ]
  },
  {
   "cell_type": "markdown",
   "metadata": {},
   "source": [
    "Example 3:\n",
    "\n",
    "the root of $$0.1*sin(20x)+sin(x)$$"
   ]
  },
  {
   "cell_type": "code",
   "execution_count": null,
   "metadata": {
    "vscode": {
     "languageId": "plaintext"
    }
   },
   "outputs": [],
   "source": [
    "def f(x):\n",
    "    return 0.1*np.sin(20*x) + np.sin(x)\n",
    "\n",
    "def J(x):\n",
    "    return 2*np.cos(20*x) + np.cos(x)\n",
    "    \n",
    "\n",
    "x0 = 2\n",
    "nm.newton_raphson(f, J, x0, tol, max_iter)"
   ]
  },
  {
   "cell_type": "markdown",
   "metadata": {},
   "source": [
    "Example4:\n",
    "\n",
    "Natural frequency of a spring-mass system governed by: \n",
    "$$ K - m * \\omega^2 = 0$$\n",
    "We assume K = 100 and m = 10"
   ]
  },
  {
   "cell_type": "code",
   "execution_count": null,
   "metadata": {
    "vscode": {
     "languageId": "plaintext"
    }
   },
   "outputs": [],
   "source": [
    "def f(w):\n",
    "    return 100 - 10 * w**2\n",
    "\n",
    "def J(x):\n",
    "    return -20*w\n",
    "    \n",
    "\n",
    "x0 = 2\n",
    "nm.newton_raphson(f, J, x0, tol, max_iter)"
   ]
  },
  {
   "cell_type": "markdown",
   "metadata": {},
   "source": [
    "Example5:\n",
    "\n",
    "The natural frequency of a beam with two ends being fixed is governed by:\n",
    "\n",
    "$$ cos(l * \\omega) * cosh(l * \\omega) - 1= 0$$\n",
    "\n",
    "we assume that l = 20\n"
   ]
  },
  {
   "cell_type": "code",
   "execution_count": null,
   "metadata": {
    "vscode": {
     "languageId": "plaintext"
    }
   },
   "outputs": [],
   "source": [
    "def f(x):\n",
    "    return np.cos(20*x) * np.cosh(20*x) - 1\n",
    "\n",
    "def J(x):\n",
    "    return 20*(np.cos(20*x)*np.sinh(20*x) - np.cosh(20*x)*np.sin(20*x))\n",
    "    \n",
    "\n",
    "x0 = 2\n",
    "nm.newton_raphson(f, J, x0, tol, max_iter)"
   ]
  }
 ],
 "metadata": {
  "language_info": {
   "name": "python"
  }
 },
 "nbformat": 4,
 "nbformat_minor": 2
}
