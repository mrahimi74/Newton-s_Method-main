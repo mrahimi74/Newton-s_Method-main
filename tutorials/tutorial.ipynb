{
 "cells": [
  {
   "cell_type": "code",
   "execution_count": null,
   "metadata": {
    "vscode": {
     "languageId": "plaintext"
    }
   },
   "outputs": [],
   "source": [
    "from newtonsmethod import newtons_method as nm\n",
    "import numpy as np"
   ]
  },
  {
   "cell_type": "markdown",
   "metadata": {},
   "source": [
    "Example1:\n",
    "\n",
    "the intersection of $$x^2 - 4 \\;\\; and \\;\\; sin(x)$$"
   ]
  },
  {
   "cell_type": "code",
   "execution_count": null,
   "metadata": {
    "vscode": {
     "languageId": "plaintext"
    }
   },
   "outputs": [],
   "source": [
    "def f(x):\n",
    "    return np.sin(x) - (x**2 - 4)\n",
    "\n",
    "def J(x):\n",
    "    return np.cos(x) - 2*x\n",
    "\n",
    "nm.newton_raphson(f, J, 10, tol, 20)"
   ]
  }
 ],
 "metadata": {
  "language_info": {
   "name": "python"
  }
 },
 "nbformat": 4,
 "nbformat_minor": 2
}
